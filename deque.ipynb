{
 "cells": [
  {
   "cell_type": "code",
   "execution_count": null,
   "metadata": {},
   "outputs": [],
   "source": [
    "# Implementation using collections deque\n",
    "# PYTHON STACK CAN BE IMPLEMENTED USING THE DEQUE DROM THE COLLECTIONS MODULE.\n",
    "\n",
    "from collections import deque\n",
    "stack=deque()\n",
    "# append function to push(add)\n",
    "\n",
    "stack.append(12)\n",
    "stack.append(34)\n",
    "stack.append(45)\n",
    "stack.append(56)\n",
    "stack.append(67)\n",
    "stack.append(78)\n",
    "stack.append(89)\n",
    "print('Initial stack is:')\n",
    "print(stack)\n",
    "print('*'*35)\n",
    "print('\\nElements popped from the stack:')\n",
    "print(stack.pop())\n",
    "print(stack.pop())\n",
    "print('*'*35)\n",
    "print('\\nstack after elements are popped:')\n",
    "print(stack)"
   ]
  }
 ],
 "metadata": {
  "language_info": {
   "name": "python"
  }
 },
 "nbformat": 4,
 "nbformat_minor": 2
}
